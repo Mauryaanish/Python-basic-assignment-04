{
  "nbformat": 4,
  "nbformat_minor": 0,
  "metadata": {
    "colab": {
      "provenance": []
    },
    "kernelspec": {
      "name": "python3",
      "display_name": "Python 3"
    },
    "language_info": {
      "name": "python"
    }
  },
  "cells": [
    {
      "cell_type": "code",
      "source": [],
      "metadata": {
        "id": "Uduib_MbUkbW"
      },
      "execution_count": null,
      "outputs": []
    },
    {
      "cell_type": "markdown",
      "source": [
        "## # 1. What exactly is []?\n",
        "\n",
        "Answer:- The empty list value."
      ],
      "metadata": {
        "id": "aydbcKrXUzhq"
      }
    },
    {
      "cell_type": "markdown",
      "source": [
        "## 2. In a list of values stored in a variable called spam, how would you assign the value &#39;hello&#39; as the\n",
        "third value? (Assume [2, 4, 6, 8, 10] are in spam.)\n",
        "\n"
      ],
      "metadata": {
        "id": "6zOjMq9jUnwb"
      }
    },
    {
      "cell_type": "code",
      "source": [
        "## Answer:- \n",
        "spam = [2,4,6,8,10]\n",
        "spam[3] = \"hello\"\n",
        "print(spam)"
      ],
      "metadata": {
        "colab": {
          "base_uri": "https://localhost:8080/"
        },
        "id": "ifzOwEY3VMDE",
        "outputId": "73c1ed51-8d05-4c3e-fba3-4a16793b42e7"
      },
      "execution_count": 4,
      "outputs": [
        {
          "output_type": "stream",
          "name": "stdout",
          "text": [
            "[2, 4, 6, 'hello', 10]\n"
          ]
        }
      ]
    },
    {
      "cell_type": "markdown",
      "source": [
        "## 3. What is the value of spam[int(int(&#39;3&#39; * 2) / 11)]?"
      ],
      "metadata": {
        "id": "pEIBqpjeUs18"
      }
    },
    {
      "cell_type": "code",
      "source": [
        "## Answer:- \n",
        "spam[int(int('3'*2)/11)]"
      ],
      "metadata": {
        "colab": {
          "base_uri": "https://localhost:8080/",
          "height": 36
        },
        "id": "Tvzz7QS1VmSf",
        "outputId": "7348c2fd-765f-4067-c765-98cdb7f37176"
      },
      "execution_count": 5,
      "outputs": [
        {
          "output_type": "execute_result",
          "data": {
            "text/plain": [
              "'hello'"
            ],
            "application/vnd.google.colaboratory.intrinsic+json": {
              "type": "string"
            }
          },
          "metadata": {},
          "execution_count": 5
        }
      ]
    },
    {
      "cell_type": "code",
      "source": [],
      "metadata": {
        "id": "uhLw_18dVzjE"
      },
      "execution_count": null,
      "outputs": []
    },
    {
      "cell_type": "markdown",
      "source": [
        "4. What is the value of spam[-1]?"
      ],
      "metadata": {
        "id": "L43bP21iV7q_"
      }
    },
    {
      "cell_type": "code",
      "source": [
        "## Answer:- \n",
        "spam[-1]"
      ],
      "metadata": {
        "colab": {
          "base_uri": "https://localhost:8080/"
        },
        "id": "FDuLdtAaV986",
        "outputId": "bf9988cc-476f-4de8-9a6f-e07a3faa69e2"
      },
      "execution_count": 6,
      "outputs": [
        {
          "output_type": "execute_result",
          "data": {
            "text/plain": [
              "10"
            ]
          },
          "metadata": {},
          "execution_count": 6
        }
      ]
    },
    {
      "cell_type": "markdown",
      "source": [
        "5. What is the value of spam[:2]?"
      ],
      "metadata": {
        "id": "ehMuQSmTWHQb"
      }
    },
    {
      "cell_type": "code",
      "source": [
        "## Answer:- \n",
        "spam[:2]"
      ],
      "metadata": {
        "colab": {
          "base_uri": "https://localhost:8080/"
        },
        "id": "2boWtAHQWLJz",
        "outputId": "57e0575e-4a92-485d-8b7c-a454ec46566e"
      },
      "execution_count": 7,
      "outputs": [
        {
          "output_type": "execute_result",
          "data": {
            "text/plain": [
              "[2, 4]"
            ]
          },
          "metadata": {},
          "execution_count": 7
        }
      ]
    },
    {
      "cell_type": "code",
      "source": [],
      "metadata": {
        "id": "izQPWowCWRZG"
      },
      "execution_count": null,
      "outputs": []
    },
    {
      "cell_type": "markdown",
      "source": [
        "## Let&#39;s pretend bacon has the list [3.1 , \"cat\", 11 \"cat\",True] for the next three questions."
      ],
      "metadata": {
        "id": "pGpnGvPdWc5l"
      }
    },
    {
      "cell_type": "code",
      "source": [
        "## 6.What is the value of bacon.index(\"cat\")?\n",
        "bacon =[3.1, \"cat\" , 11 , \"cat\" , True]\n",
        "bacon.index(\"cat\")"
      ],
      "metadata": {
        "colab": {
          "base_uri": "https://localhost:8080/"
        },
        "id": "9H4AxfE5W1Tj",
        "outputId": "d78832a8-408b-443f-9a5d-a0c22dc2312b"
      },
      "execution_count": 10,
      "outputs": [
        {
          "output_type": "execute_result",
          "data": {
            "text/plain": [
              "1"
            ]
          },
          "metadata": {},
          "execution_count": 10
        }
      ]
    },
    {
      "cell_type": "code",
      "source": [
        "## 7. How does bacon.append(99) change the look of the list value in bacon?\n",
        "bacon = [3.1, \"cat\" , 11 , \"cat\" , True]\n",
        "bacon.append(99)\n",
        "print(bacon)"
      ],
      "metadata": {
        "colab": {
          "base_uri": "https://localhost:8080/"
        },
        "id": "jiVTgbN7XMJS",
        "outputId": "f635827b-c0cf-403e-e89b-58c6e65d4d39"
      },
      "execution_count": 11,
      "outputs": [
        {
          "output_type": "stream",
          "name": "stdout",
          "text": [
            "[3.1, 'cat', 11, 'cat', True, 99]\n"
          ]
        }
      ]
    },
    {
      "cell_type": "code",
      "source": [
        "## 8. How does bacon.remove(\"cat\") change the look of the list in bacon?\n",
        "bacon = [3.1, \"cat\" , 11 , \"cat\" , True]\n",
        "bacon.remove(\"cat\")\n",
        "print(bacon)\n"
      ],
      "metadata": {
        "colab": {
          "base_uri": "https://localhost:8080/"
        },
        "id": "wCMhfNWWXpCj",
        "outputId": "bf3881dd-f540-4276-bc34-c7eaccb8e3cf"
      },
      "execution_count": 13,
      "outputs": [
        {
          "output_type": "stream",
          "name": "stdout",
          "text": [
            "[3.1, 11, 'cat', True]\n"
          ]
        }
      ]
    },
    {
      "cell_type": "code",
      "source": [],
      "metadata": {
        "id": "tgpo9VorYAZ3"
      },
      "execution_count": null,
      "outputs": []
    },
    {
      "cell_type": "markdown",
      "source": [
        "## 9. What are the list concatenation and list replication operators?\n",
        "\n",
        "Answer: - He operator for list concatenation is +, while the operator for replication is.  (This is the same as for strings.)"
      ],
      "metadata": {
        "id": "uDvNd9VMYOTA"
      }
    },
    {
      "cell_type": "code",
      "source": [],
      "metadata": {
        "id": "aOzSVja2YjGM"
      },
      "execution_count": null,
      "outputs": []
    },
    {
      "cell_type": "markdown",
      "source": [
        "## 10. What is difference between the list methods append() and insert()?\n",
        "\n",
        "Answer:-  append() adds an item to the end of a list, whereas . insert() inserts and item in a specified position in the list"
      ],
      "metadata": {
        "id": "lsIIRaZuYpFM"
      }
    },
    {
      "cell_type": "code",
      "source": [],
      "metadata": {
        "id": "VTQuQHCEY1um"
      },
      "execution_count": null,
      "outputs": []
    },
    {
      "cell_type": "markdown",
      "source": [
        "## 11. What are the two methods for removing items from a list?\n",
        "\n",
        "Answer:- pop() and remove()"
      ],
      "metadata": {
        "id": "7yKCvND4Y6KC"
      }
    },
    {
      "cell_type": "code",
      "source": [],
      "metadata": {
        "id": "0ySizUK9ZEIF"
      },
      "execution_count": null,
      "outputs": []
    },
    {
      "cell_type": "markdown",
      "source": [
        "## 12. Describe how list values and string values are identical.\n",
        "\n",
        "Answer:- The values that make up a list are called its elements. Lists are similar to strings, which are ordered collections of characters, except that the elements of a list can have any type and for any one list, the items can be of different types."
      ],
      "metadata": {
        "id": "D5cCMud7ZFbu"
      }
    },
    {
      "cell_type": "code",
      "source": [],
      "metadata": {
        "id": "mSmTFby5ZWd-"
      },
      "execution_count": null,
      "outputs": []
    },
    {
      "cell_type": "markdown",
      "source": [
        "## 13. Whats is the difference between tuples and lists?\n",
        "\n",
        "Answer:- list is mutable. \n",
        "        - list is dynamic.\n",
        "        -list is ordered. \n",
        "-**tuble** is unmutable.\n",
        "- an index is used to traverse a tuple.\n"
      ],
      "metadata": {
        "id": "f7Dw59rKZXaV"
      }
    },
    {
      "cell_type": "code",
      "source": [],
      "metadata": {
        "id": "YnROCYh2aJPo"
      },
      "execution_count": null,
      "outputs": []
    },
    {
      "cell_type": "markdown",
      "source": [
        "## 14. How do you type a tuple value that only contains the integer 42?\n",
        "\n",
        "Answer:- (42)"
      ],
      "metadata": {
        "id": "fr85BztmaSqu"
      }
    },
    {
      "cell_type": "code",
      "source": [],
      "metadata": {
        "id": "miYbcsszaosS"
      },
      "execution_count": null,
      "outputs": []
    },
    {
      "cell_type": "markdown",
      "source": [
        "## 15. How do you get a list value&#39;s tuple form? How do you get a tuple value&#39;s list form?\n",
        "\n",
        "Answer:- An iterable can be passed as an input to the tuple () function, which will convert it to a tuple object. If you want to convert a Python list to a tuple, you can use the tuple() function to pass the full list as an argument, and it will return the tuple data type as an output."
      ],
      "metadata": {
        "id": "UkTkaOstapoO"
      }
    },
    {
      "cell_type": "code",
      "source": [],
      "metadata": {
        "id": "1cpgYSe0a3oz"
      },
      "execution_count": null,
      "outputs": []
    },
    {
      "cell_type": "markdown",
      "source": [
        "## 16. Variables that &quot;contain&quot; list values are not necessarily lists themselves. Instead, what do they\n",
        "contain?\n",
        "\n",
        "Answer:- Variables will contain references to list values rather than list values themselves. But for strings and integer values, variables simply contain the string or integer value.\n"
      ],
      "metadata": {
        "id": "R8IPvwSKa4vK"
      }
    },
    {
      "cell_type": "code",
      "source": [],
      "metadata": {
        "id": "iyEErj3tbhDl"
      },
      "execution_count": null,
      "outputs": []
    },
    {
      "cell_type": "markdown",
      "source": [
        "## 17. How do you distinguish between copy.copy() and copy.deepcopy()?\n",
        "\n",
        "Answer:- In order to make these copies, we use the copy module. The copy() returns a shallow copy of the list, and deepcopy() returns a deep copy of the list. As you can see that both have the same value but have different IDs."
      ],
      "metadata": {
        "id": "-y7Auxt4bkeX"
      }
    },
    {
      "cell_type": "code",
      "source": [],
      "metadata": {
        "id": "FVBhXRZobvFl"
      },
      "execution_count": null,
      "outputs": []
    }
  ]
}